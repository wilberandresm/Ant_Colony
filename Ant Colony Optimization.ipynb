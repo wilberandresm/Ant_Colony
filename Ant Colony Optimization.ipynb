{
 "cells": [
  {
   "cell_type": "code",
   "execution_count": 1,
   "metadata": {},
   "outputs": [],
   "source": [
    "import numpy as np\n",
    "import string, math, random\n",
    "from copy import deepcopy\n",
    "from tqdm import tqdm"
   ]
  },
  {
   "cell_type": "code",
   "execution_count": 2,
   "metadata": {},
   "outputs": [],
   "source": [
    "def distancesFromCoords():\n",
    "    f = open('kroA100.tsp')\n",
    "    data = [line.replace(\"\\n\",\"\").split(\" \")[1:] for line in f.readlines()[6:106]]\n",
    "    coords =  list(map(lambda x: [float(x[0]),float(x[1])], data))\n",
    "    distances = []\n",
    "    for i in range(len(coords)):\n",
    "        row = []\n",
    "        for j in range(len(coords)):\n",
    "            row.append(math.sqrt((coords[i][0]-coords[j][0])**2 + (coords[i][1]-coords[j][1])**2))\n",
    "        distances.append(row)\n",
    "    return distances"
   ]
  },
  {
   "cell_type": "code",
   "execution_count": 3,
   "metadata": {},
   "outputs": [],
   "source": [
    "def localHeuristics(matriz,col,row):\n",
    "    matrizHL = deepcopy(matriz)\n",
    "    for i in range(row):\n",
    "        for j in range(col):\n",
    "            if(matrizHL[i][j] != 0 ):\n",
    "                matrizHL[i][j] = 1/matrizHL[i][j]\n",
    "    return np.array(matrizHL)"
   ]
  },
  {
   "cell_type": "code",
   "execution_count": 4,
   "metadata": {},
   "outputs": [],
   "source": [
    "def ObjetiveFunction(route,distances): \n",
    "    sum=0\n",
    "    for i in range(len(route)-1): \n",
    "        fromCity=route[i]\n",
    "        toCity=route[i+1]\n",
    "        sum=sum+distances[fromCity][toCity]\n",
    "    return sum"
   ]
  },
  {
   "cell_type": "code",
   "execution_count": 5,
   "metadata": {},
   "outputs": [],
   "source": [
    "def generateRoutes(nCities, pos, matriz):\n",
    "\n",
    "    aux_list=[]\n",
    "    for i in range(nCities):\n",
    "        if(i!=pos):\n",
    "            aux_list.append(i)\n",
    "\n",
    "    route=[pos]\n",
    "    while len(aux_list)>0:\n",
    "        aux = random.choice(aux_list)\n",
    "        aux_list.remove(aux)\n",
    "        route.append(aux)\n",
    "    route.append(pos)\n",
    "    z = ObjetiveFunction(route,matriz)\n",
    "\n",
    "    return route,z"
   ]
  },
  {
   "cell_type": "code",
   "execution_count": 6,
   "metadata": {},
   "outputs": [],
   "source": [
    "def initialPheromone(matriz, n, pos):\n",
    "    pheromone = np.zeros(np.shape(matriz))\n",
    "    while(n>0):\n",
    "        nSolution, z = generateRoutes(len(matriz),pos, matriz)\n",
    "        inverseZ=1/z\n",
    "        for i in range(len(nSolution)-1):\n",
    "            fromCity=nSolution[i]\n",
    "            toCity=nSolution[i+1]\n",
    "            pheromone[fromCity][toCity]+=inverseZ\n",
    "\n",
    "        n-=1\n",
    "    return pheromone\n"
   ]
  },
  {
   "cell_type": "code",
   "execution_count": 7,
   "metadata": {},
   "outputs": [],
   "source": [
    "def evaporation(pheromone):\n",
    "    p = 0.1\n",
    "    for i in range(len(pheromone)):\n",
    "        for j in range(len(pheromone[0])):\n",
    "            pheromone[i][j] = pheromone[i][j]*(1-p)\n",
    "    return pheromone"
   ]
  },
  {
   "cell_type": "code",
   "execution_count": 8,
   "metadata": {},
   "outputs": [],
   "source": [
    "def Probabilities(local_heu,pheromone,alpha,beta,positions):\n",
    "\n",
    "    matriz=(pheromone**alpha)*(local_heu**beta)\n",
    "\n",
    "    for i in positions:\n",
    "        matriz[i,:]=0\n",
    "        \n",
    "    summation=matriz.sum(axis=0)\n",
    "\n",
    "    probabilities=matriz/summation\n",
    "    return probabilities"
   ]
  },
  {
   "cell_type": "code",
   "execution_count": 9,
   "metadata": {},
   "outputs": [],
   "source": [
    "def accumulatedPositions(probability,ran,positions):\n",
    "    accumulated=0\n",
    "    for i in range(len(probability)):\n",
    "        accumulated+=probability[i]\n",
    "        if probability[i] in positions:\n",
    "            continue\n",
    "        else:\n",
    "            if(accumulated>ran):\n",
    "                return i\n",
    "    return 0"
   ]
  },
  {
   "cell_type": "code",
   "execution_count": 10,
   "metadata": {},
   "outputs": [],
   "source": [
    "def addPheromone(pheromone,solution,distances):\n",
    "    aux_pheromone = deepcopy(pheromone)\n",
    "    z = ObjetiveFunction(solution,distances)\n",
    "    inverse_z = 1/z\n",
    "    for i in range(len(solution)-1):\n",
    "        fromCity = solution[i]\n",
    "        toCity = solution[i+1]\n",
    "        aux_pheromone[fromCity][toCity] += inverse_z\n",
    "    \n",
    "    return np.array(aux_pheromone)"
   ]
  },
  {
   "cell_type": "code",
   "execution_count": 11,
   "metadata": {},
   "outputs": [],
   "source": [
    "def generatePath(local_heu,pheromone,alpha,beta,pos):\n",
    "    counter=0\n",
    "    positions=[pos]\n",
    "    while(len(positions)<len(pheromone)):\n",
    "        ran=random.random()\n",
    "        probabilities=Probabilities(local_heu,pheromone,alpha,beta,positions)\n",
    "        positions.append(accumulatedPositions(probabilities[:,positions[counter]],ran,positions))\n",
    "        counter+=1\n",
    "    positions.append(pos)\n",
    "    return positions"
   ]
  },
  {
   "cell_type": "code",
   "execution_count": 17,
   "metadata": {
    "scrolled": true
   },
   "outputs": [
    {
     "name": "stdout",
     "output_type": "stream",
     "text": [
      "Number of routes: 5000\n",
      "Alpha: 1\n",
      "Beta: 5\n",
      "Iterations: 100\n"
     ]
    },
    {
     "name": "stderr",
     "output_type": "stream",
     "text": [
      "  0%|                                                                                          | 0/100 [00:00<?, ?it/s]c:\\users\\usuario\\miniconda3\\lib\\site-packages\\ipykernel_launcher.py:10: RuntimeWarning: invalid value encountered in true_divide\n",
      "  # Remove the CWD from sys.path while we load stuff.\n",
      "100%|████████████████████████████████████████████████████████████████████████████████| 100/100 [00:09<00:00, 12.79it/s]\n"
     ]
    },
    {
     "name": "stdout",
     "output_type": "stream",
     "text": [
      "\n",
      "Solution for TSP:\n",
      "[78, 17, 23, 37, 35, 83, 9, 89, 48, 5, 62, 0, 91, 7, 41, 88, 30, 79, 55, 96, 74, 18, 52, 87, 15, 21, 93, 69, 65, 64, 3, 25, 98, 71, 20, 73, 58, 14, 16, 10, 31, 90, 97, 22, 44, 85, 26, 11, 19, 56, 6, 8, 86, 50, 60, 24, 80, 68, 63, 39, 53, 1, 43, 49, 72, 67, 84, 29, 38, 95, 77, 51, 4, 36, 75, 32, 12, 94, 81, 13, 47, 99, 70, 40, 42, 2, 45, 28, 33, 82, 54, 76, 59, 61, 34, 27, 92, 57, 66, 0, 78]\n",
      "z: 26465.84724699426\n"
     ]
    }
   ],
   "source": [
    "if __name__ == \"__main__\":\n",
    "\n",
    "    distances = distancesFromCoords()\n",
    "    pos = random.randint(0,len(distances)-1)\n",
    "    cities = len(distances)\n",
    "    while(True):\n",
    "        n = input(\"Number of routes: \")\n",
    "        try:\n",
    "            n = int(n)\n",
    "            if(n<0):\n",
    "                print(\"\\nInvalid number!\\n\")\n",
    "            else:\n",
    "                break\n",
    "        except ValueError:\n",
    "            print(\"\\nInsert a number!\\n\")\n",
    "    while(True):\n",
    "        alpha = input(\"Alpha: \")\n",
    "        try:\n",
    "            alpha = int(alpha)\n",
    "            if(alpha<0):\n",
    "                print(\"\\nInvalid number!\\n\")\n",
    "            else:\n",
    "                break\n",
    "        except ValueError:\n",
    "            print(\"\\nInsert a number!\\n\")\n",
    "    while(True):\n",
    "        beta = input(\"Beta: \")\n",
    "        try:\n",
    "            beta = int(beta)\n",
    "            if(beta<0):\n",
    "                print(\"\\nInvalid number!\\n\")\n",
    "            else:\n",
    "                break\n",
    "        except ValueError:\n",
    "            print(\"\\nInsert a number!\\n\")\n",
    "    while(True):\n",
    "        iterations = input(\"Iterations: \")\n",
    "        try:\n",
    "            iterations = int(iterations)\n",
    "            if(iterations<0):\n",
    "                print(\"\\nInvalid number!\\n\")\n",
    "            else:\n",
    "                break\n",
    "        except ValueError:\n",
    "            print(\"\\nInsert a number!\\n\")\n",
    "            \n",
    "    local_h = localHeuristics(distances,len(distances[0]),cities)\n",
    "    pheromone_matrix = initialPheromone(distances,n, pos) \n",
    "    for i in tqdm(range(iterations)):\n",
    "        solution = generatePath(local_h,pheromone_matrix,alpha,beta, pos)\n",
    "        pheromone_matrix = addPheromone(pheromone_matrix,solution,distances)\n",
    "        pheromone_matrix = evaporation(pheromone_matrix)\n",
    "        \n",
    "    print(\"\\nSolution for TSP:\")\n",
    "    print(solution)\n",
    "    print(\"z:\" ,ObjetiveFunction(solution,distances))"
   ]
  },
  {
   "cell_type": "code",
   "execution_count": null,
   "metadata": {},
   "outputs": [],
   "source": []
  }
 ],
 "metadata": {
  "kernelspec": {
   "display_name": "Python 3",
   "language": "python",
   "name": "python3"
  },
  "language_info": {
   "codemirror_mode": {
    "name": "ipython",
    "version": 3
   },
   "file_extension": ".py",
   "mimetype": "text/x-python",
   "name": "python",
   "nbconvert_exporter": "python",
   "pygments_lexer": "ipython3",
   "version": "3.7.1"
  }
 },
 "nbformat": 4,
 "nbformat_minor": 2
}
